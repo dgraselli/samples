{
  "nbformat": 4,
  "nbformat_minor": 0,
  "metadata": {
    "colab": {
      "name": "Practica 3_e7.ipynb",
      "provenance": [],
      "collapsed_sections": [],
      "authorship_tag": "ABX9TyPOTbVHmAxwWjVtPToRarOg",
      "include_colab_link": true
    },
    "kernelspec": {
      "name": "python3",
      "display_name": "Python 3"
    }
  },
  "cells": [
    {
      "cell_type": "markdown",
      "metadata": {
        "id": "view-in-github",
        "colab_type": "text"
      },
      "source": [
        "<a href=\"https://colab.research.google.com/github/dgraselli/samples/blob/master/Practica_3_e7.ipynb\" target=\"_parent\"><img src=\"https://colab.research.google.com/assets/colab-badge.svg\" alt=\"Open In Colab\"/></a>"
      ]
    },
    {
      "cell_type": "code",
      "metadata": {
        "id": "I3jJneCjqz8X",
        "outputId": "8c6f1958-e467-4e32-b923-e38a2be55a2a",
        "colab": {
          "base_uri": "https://localhost:8080/",
          "height": 34
        }
      },
      "source": [
        "import sys \n",
        "from google.colab import drive \n",
        "drive.mount('/content/drive', force_remount=True)\n",
        "root_path = 'drive/My Drive/FACULTAD/POSGRADO/Conceptos y Aplicaciones de Big Data/P3/' \n",
        "sys.path.append('/content/../LIB' + root_path)\n",
        "\n",
        "\n"
      ],
      "execution_count": 1,
      "outputs": [
        {
          "output_type": "stream",
          "text": [
            "Mounted at /content/drive\n"
          ],
          "name": "stdout"
        }
      ]
    },
    {
      "cell_type": "code",
      "metadata": {
        "id": "1rLtg84wsy9e",
        "outputId": "797f270f-789c-44a4-cd36-616374bcd236",
        "colab": {
          "base_uri": "https://localhost:8080/",
          "height": 69
        }
      },
      "source": [
        "# Instalamos Spark para Python\n",
        "\"\"\"\n",
        "!pip install pyspark\n",
        "import os\n",
        "\n",
        "# Instalamos Java SDK 8\n",
        "!apt-get install -y openjdk-8-jdk -qq > /dev/null      \n",
        "!echo $(/usr/libexec/java_home -v 1.8)\n",
        "\n",
        "#set environment variable\n",
        "os.environ[\"JAVA_HOME\"] = \"/usr/lib/jvm/java-8-openjdk-amd64\"     \n",
        "!echo 2 | update-alternatives --config java\n",
        "\"\"\"\n"
      ],
      "execution_count": 2,
      "outputs": [
        {
          "output_type": "execute_result",
          "data": {
            "application/vnd.google.colaboratory.intrinsic+json": {
              "type": "string"
            },
            "text/plain": [
              "'\\n!pip install pyspark\\nimport os\\n\\n# Instalamos Java SDK 8\\n!apt-get install -y openjdk-8-jdk -qq > /dev/null      \\n!echo $(/usr/libexec/java_home -v 1.8)\\n\\n#set environment variable\\nos.environ[\"JAVA_HOME\"] = \"/usr/lib/jvm/java-8-openjdk-amd64\"     \\n!echo 2 | update-alternatives --config java\\n'"
            ]
          },
          "metadata": {
            "tags": []
          },
          "execution_count": 2
        }
      ]
    },
    {
      "cell_type": "code",
      "metadata": {
        "id": "lJEscsFwDl_m"
      },
      "source": [
        "from pyspark import SparkContext\n",
        "sc = SparkContext(\"local\", \"myProg\")\n"
      ],
      "execution_count": 3,
      "outputs": []
    },
    {
      "cell_type": "code",
      "metadata": {
        "id": "iL1Sb6yJF-x3"
      },
      "source": [
        "clientes = sc.textFile(root_path +'/Banco/input/clientes/Clientes.txt')\n",
        "prestamos = sc.textFile(root_path +'/Banco/input/prestamos/Prestamos.txt')\n",
        "movimientos = sc.textFile(root_path +'/Banco/input/movimientos/Movimientos.txt')\n",
        "cajas = sc.textFile(root_path +'/Banco/input/cajas_de_ahorro/CajasDeAhorro.txt')\n",
        "#Cliente: <ID_Cliente, nombre, apellido, DNI, fecha de nacimiento, nacionalidad>\n",
        "#CajaDeAhorro: <ID_Caja, ID_Cliente, saldo>\n",
        "#Prestamos: <ID_Caja, cuotas, monto>\n",
        "#Movimientos: <ID_Caja, monto, fecha>\n"
      ],
      "execution_count": 4,
      "outputs": []
    },
    {
      "cell_type": "code",
      "metadata": {
        "id": "r4OhGCYnITf1"
      },
      "source": [
        "from dateutil.relativedelta import relativedelta\n",
        "import datetime\n",
        "\n",
        "def continente(x):\n",
        "  return 'EUR' if x in ['ESP','ITA'] else 'AME'\n",
        "\n",
        "def edad(fn):\n",
        "  y,m,d = fn.split('-')\n",
        "  start_date = datetime.date(int(y), int(m), int(d))\n",
        "  end_date = datetime.date.today()\n",
        "  difference_in_years = relativedelta(end_date, start_date).years\n",
        "  return difference_in_years\n",
        "\n",
        "#edad('1977-07-21')"
      ],
      "execution_count": 5,
      "outputs": []
    },
    {
      "cell_type": "code",
      "metadata": {
        "id": "KhVvtvKQJxbU"
      },
      "source": [
        "\n",
        "t_clientes = clientes.map(lambda x: x.split()) \\\n",
        "                     .map(lambda x: {\"id_cte\":x[0], \n",
        "                                     \"name\": x[1] + \" \" + x[2],\n",
        "                                     \"dni\": x[3],\n",
        "                                     \"fn\": x[4],\n",
        "                                     \"nac\": x[5],\n",
        "                                     \"cont\": continente(x[5])})\n",
        "\n",
        "t_cajas  = cajas.map(lambda x: x.split()) \\\n",
        "                .map(lambda x: {\"id_caja\": x[0],\n",
        "                                \"id_cte\": x[1],\n",
        "                                \"saldo\": float(x[2])})   \n",
        "\n",
        "t_prestamos  = prestamos.map(lambda x: x.split()) \\\n",
        "                        .map(lambda x: {\"id_caja\": x[0],\n",
        "                                \"cuotas\": int(x[1]),\n",
        "                                \"monto\": float(x[2])})   \n"
      ],
      "execution_count": 6,
      "outputs": []
    },
    {
      "cell_type": "code",
      "metadata": {
        "id": "ZlCNLB-dGQRQ",
        "outputId": "49ba9c64-3aa4-4c20-aaac-ba56368bf33e",
        "colab": {
          "base_uri": "https://localhost:8080/",
          "height": 51
        }
      },
      "source": [
        "# 7a) El banco tiene mas clientes europeos que americanos\n",
        "t_clientes_ame = t_clientes.filter(lambda x: x['cont'] =='AME').map(lambda x: (x['id_cte'],x))\n",
        "t_clientes_eur = t_clientes.filter(lambda x: x['cont'] =='EUR').map(lambda x: (x['id_cte'],x))\n",
        "\n",
        "c_ame = t_clientes_ame.count()\n",
        "c_eur = t_clientes_eur.count()\n",
        "\n",
        "print(\"Americanos: {}, Europeos: {}\".format(c_ame, c_eur)) \n",
        "print(\"7a) El banco tiene mas clientes europeos que americanos: {}\".format(c_ame < c_eur))"
      ],
      "execution_count": 7,
      "outputs": [
        {
          "output_type": "stream",
          "text": [
            "Americanos: 22661, Europeos: 4425\n",
            "7a) El banco tiene mas clientes europeos que americanos: False\n"
          ],
          "name": "stdout"
        }
      ]
    },
    {
      "cell_type": "code",
      "metadata": {
        "id": "w4BHq90DG8sV",
        "outputId": "308e3aa2-36f7-4d42-e1c5-b089fee9feb4",
        "colab": {
          "base_uri": "https://localhost:8080/",
          "height": 68
        }
      },
      "source": [
        "# 7b) El promedio de edad de los clientes americanos es menor que el de los europeos\n",
        "\n",
        "ame_sum, ame_count = t_clientes_ame.map(lambda x: (edad(x[1]['fn']),1)).reduce(lambda a,b: (a[0]+b[0], a[1]+b[1]))\n",
        "eur_sum, eur_count = t_clientes_eur.map(lambda x: (edad(x[1]['fn']),1)).reduce(lambda a,b: (a[0]+b[0], a[1]+b[1]))\n",
        "respuesta = ame_sum / ame_count <  eur_sum / eur_count\n",
        "print(\"Promedio de edad de americanos: {:.2f}\".format(ame_sum / ame_count))\n",
        "print(\"Promedio de edad de europeos: {:.2f}\".format(eur_sum / eur_count))\n",
        "print(\"7b) El promedio de edad de los clientes americanos es menor que el de los europeos: {}\".format(respuesta))"
      ],
      "execution_count": 8,
      "outputs": [
        {
          "output_type": "stream",
          "text": [
            "Promedio de edad de americanos: 48.71\n",
            "Promedio de edad de europeos: 48.76\n",
            "7b) El promedio de edad de los clientes americanos es menor que el de los europeos: True\n"
          ],
          "name": "stdout"
        }
      ]
    },
    {
      "cell_type": "code",
      "metadata": {
        "id": "E-GQ3r1VL4Jx",
        "outputId": "bf07a1d8-facc-455f-a7a9-1a683f64c639",
        "colab": {
          "base_uri": "https://localhost:8080/",
          "height": 68
        }
      },
      "source": [
        "# 7c) Los americanos deben más plata que los europeos (un cliente debe plata si la suma de montos de todas sus cajas de ahorro es negativa)\n",
        "p_cte_caja = t_cajas.map(lambda x: (x['id_cte'],x))\n",
        "ame = t_clientes_ame.join(p_cte_caja).map(lambda x: x[1][1]['saldo']).sum()\n",
        "eur = t_clientes_eur.join(p_cte_caja).map(lambda x: x[1][1]['saldo']).sum()\n",
        "print(\"Saldo AME: {:.2f}\".format(ame))\n",
        "print(\"Saldo EUR: {:.2f}\".format(eur))\n",
        "print(\"7c) Los americanos deben más plata que los europeos: {}\".format(ame < eur))"
      ],
      "execution_count": 9,
      "outputs": [
        {
          "output_type": "stream",
          "text": [
            "Saldo AME: -18319419.83\n",
            "Saldo EUR: -13785723.21\n",
            "7c) Los americanos deben más plata que los europeos: True\n"
          ],
          "name": "stdout"
        }
      ]
    },
    {
      "cell_type": "code",
      "metadata": {
        "id": "BkqOVEGRPKTL",
        "outputId": "b4fc7e85-2d05-4bb9-8818-4b899f3007f8",
        "colab": {
          "base_uri": "https://localhost:8080/",
          "height": 68
        }
      },
      "source": [
        "# 7d) Los clientes americanos suelen sacar, en promedio, préstamos con mayor cantidad de cuotas que los europeos\n",
        "p_caja_prestamos = t_prestamos.map(lambda x: (x['id_caja'],x))\n",
        "ame_sum, ame_cnt = t_clientes_ame.join(p_cte_caja) \\\n",
        "      .map(lambda x: (x[1][1]['id_caja'], None)) \\\n",
        "      .join(p_caja_prestamos) \\\n",
        "      .map(lambda x: (x[1][1]['cuotas'],1)) \\\n",
        "      .reduce(lambda a,b: (a[0]+b[0], a[1]+b[1]))\n",
        "\n",
        "eur_sum, eur_cnt = t_clientes_eur.join(p_cte_caja) \\\n",
        "      .map(lambda x: (x[1][1]['id_caja'], None)) \\\n",
        "      .join(p_caja_prestamos) \\\n",
        "      .map(lambda x: (x[1][1]['cuotas'],1)) \\\n",
        "      .reduce(lambda a,b: (a[0]+b[0], a[1]+b[1]))\n",
        "\n",
        "ame_avg = ame_sum / ame_cnt\n",
        "eur_avg = eur_sum / eur_cnt\n",
        "\n",
        "print(\"Cuotas Prom AME: {:.2f}\".format(ame_avg))\n",
        "print(\"Cuotas Prom EUR: {:.2f}\".format(eur_avg))\n",
        "print(\"7d) Los clientes americanos suelen sacar, en promedio, préstamos con mayor cantidad de cuotas que los europeos: {}\".format(ame_avg < eur_avg))"
      ],
      "execution_count": 10,
      "outputs": [
        {
          "output_type": "stream",
          "text": [
            "Cuotas Prom AME: 61.42\n",
            "Cuotas Prom EUR: 60.18\n",
            "7d) Los clientes americanos suelen sacar, en promedio, préstamos con mayor cantidad de cuotas que los europeos: False\n"
          ],
          "name": "stdout"
        }
      ]
    }
  ]
}